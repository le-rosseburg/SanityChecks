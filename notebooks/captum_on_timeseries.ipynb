{
  "nbformat": 4,
  "nbformat_minor": 0,
  "metadata": {
    "colab": {
      "name": "captum_on_timeseries.ipynb",
      "provenance": [],
      "collapsed_sections": []
    },
    "kernelspec": {
      "name": "python3",
      "display_name": "Python 3"
    },
    "language_info": {
      "name": "python"
    }
  },
  "cells": [
    {
      "cell_type": "code",
      "metadata": {
        "id": "3wgNG1HEXzP3"
      },
      "source": [
        "!pip install seaborn\n",
        "!pip install captum\n",
        "!pip install seaborn"
      ],
      "execution_count": null,
      "outputs": []
    },
    {
      "cell_type": "code",
      "metadata": {
        "colab": {
          "base_uri": "https://localhost:8080/"
        },
        "id": "5Z8PvtgDX21x",
        "outputId": "d71475fd-3c19-4dab-bce0-4d2b93bd3f02"
      },
      "source": [
        "import torch\n",
        "import torch.nn as nn\n",
        "import torch.nn.functional as F\n",
        "import seaborn as sb\n",
        "torch.manual_seed(0)"
      ],
      "execution_count": 2,
      "outputs": [
        {
          "output_type": "execute_result",
          "data": {
            "text/plain": [
              "<torch._C.Generator at 0x7f4e028f4c50>"
            ]
          },
          "metadata": {
            "tags": []
          },
          "execution_count": 2
        }
      ]
    },
    {
      "cell_type": "code",
      "metadata": {
        "colab": {
          "base_uri": "https://localhost:8080/"
        },
        "id": "NsNj4vQbYCe7",
        "outputId": "e2a52ff1-5280-4e73-bf7d-bfb59d1792f6"
      },
      "source": [
        "dataset=sb.load_dataset('flights')\n",
        "print(dataset.head(12))\n",
        "print(len(dataset))"
      ],
      "execution_count": 3,
      "outputs": [
        {
          "output_type": "stream",
          "text": [
            "    year month  passengers\n",
            "0   1949   Jan         112\n",
            "1   1949   Feb         118\n",
            "2   1949   Mar         132\n",
            "3   1949   Apr         129\n",
            "4   1949   May         121\n",
            "5   1949   Jun         135\n",
            "6   1949   Jul         148\n",
            "7   1949   Aug         148\n",
            "8   1949   Sep         136\n",
            "9   1949   Oct         119\n",
            "10  1949   Nov         104\n",
            "11  1949   Dec         118\n",
            "144\n"
          ],
          "name": "stdout"
        }
      ]
    },
    {
      "cell_type": "code",
      "metadata": {
        "id": "iJQmSMLrZC05"
      },
      "source": [
        "#from that we build our own training data with a sliding window of length 10\n",
        "targets,features=[],[]\n",
        "for i in range(10,len(dataset)):\n",
        "  target=dataset['passengers'][i]\n",
        "  targets.append(target)\n",
        "  feature=dataset['passengers'][i-10:i]\n",
        "  features.append(feature)\n",
        "\n",
        "\n",
        "feature_tensor=torch.Tensor(features).float()\n",
        "target_tensor=torch.Tensor(targets).float()"
      ],
      "execution_count": 4,
      "outputs": []
    },
    {
      "cell_type": "code",
      "metadata": {
        "id": "ENPdC3vfepYC"
      },
      "source": [
        "#normalize the data\n",
        "mean_f=torch.mean(feature_tensor)\n",
        "std_f=torch.std(feature_tensor)\n",
        "feature_tensor=(feature_tensor-mean_f)/std_f\n",
        "\n",
        "mean_t=torch.mean(target_tensor)\n",
        "std_t=torch.std(target_tensor)\n",
        "target_tensor=(target_tensor-mean_f)/std_f"
      ],
      "execution_count": 5,
      "outputs": []
    },
    {
      "cell_type": "code",
      "metadata": {
        "colab": {
          "base_uri": "https://localhost:8080/"
        },
        "id": "XyPW2FkRe38p",
        "outputId": "d6059643-fc55-4f98-e458-edb2e95d6b6d"
      },
      "source": [
        "print(feature_tensor[0])\n",
        "print(target_tensor[0])"
      ],
      "execution_count": 6,
      "outputs": [
        {
          "output_type": "stream",
          "text": [
            "tensor([-1.4712, -1.4177, -1.2929, -1.3196, -1.3910, -1.2662, -1.1503, -1.1503,\n",
            "        -1.2572, -1.4088])\n",
            "tensor(-1.5425)\n"
          ],
          "name": "stdout"
        }
      ]
    },
    {
      "cell_type": "code",
      "metadata": {
        "colab": {
          "base_uri": "https://localhost:8080/"
        },
        "id": "yIOKRA7Fb6II",
        "outputId": "70876db1-4555-4da0-a7c8-727f3e353615"
      },
      "source": [
        "#randomly split training and test set\n",
        "training_part=round(len(feature_tensor)*0.9)\n",
        "print(training_part)\n",
        "\n",
        "shuffled_index=torch.randperm(len(features))\n",
        "training_index=shuffled_index[:training_part]\n",
        "validation_index=shuffled_index[training_part:len(feature_tensor)]\n",
        "\n",
        "\n",
        "train_f,train_t=feature_tensor[training_index],target_tensor[training_index]\n",
        "val_f,val_t=feature_tensor[validation_index],target_tensor[validation_index]"
      ],
      "execution_count": 8,
      "outputs": [
        {
          "output_type": "stream",
          "text": [
            "121\n"
          ],
          "name": "stdout"
        }
      ]
    },
    {
      "cell_type": "code",
      "metadata": {
        "id": "uAtO0p9Nd57h"
      },
      "source": [
        "import torch.optim as optim\n",
        "#define a network, loss function and optimizer\n",
        "\n",
        "class RegModel(nn.Module):\n",
        "  def __init__(self):\n",
        "    super().__init__()\n",
        "    self.lin1=nn.Linear(10,3)\n",
        "    self.sig1=nn.Sigmoid()\n",
        "    self.lin2=nn.Linear(3,1)\n",
        "\n",
        "  def forward(self,x):\n",
        "    z=self.lin1(x)\n",
        "    z=self.sig1(z)\n",
        "    z=self.lin2(z)\n",
        "    return z\n",
        "\n",
        "model=RegModel()\n",
        "loss_func = nn.MSELoss()\n",
        "opt = optim.Adam(model.parameters(),lr=0.00001)"
      ],
      "execution_count": 9,
      "outputs": []
    },
    {
      "cell_type": "code",
      "metadata": {
        "id": "A_3HIhV6gGiy"
      },
      "source": [
        "import copy\n",
        "epochs=150000\n",
        "best_val_loss=10**10\n",
        "\n",
        "for epoch in range(epochs):\n",
        "  pred=model(train_f).squeeze()\n",
        "  loss=loss_func(pred,train_t)\n",
        "  loss.backward()\n",
        "  opt.step()\n",
        "\n",
        "  #calculate validation loss\n",
        "  val_loss=loss_func(model(val_f).squeeze(),val_t)\n",
        "\n",
        "  if val_loss<best_val_loss:\n",
        "    best_val_loss=val_loss\n",
        "    best_model=copy.deepcopy(model)\n",
        "    inc_count=0\n",
        "  else:\n",
        "    inc_count+=1\n",
        "  if inc_count >225:\n",
        "    model=best_model\n",
        "    break\n",
        "\n",
        "  model.zero_grad()\n",
        "  if epoch%(epochs/100) == 0:\n",
        "    print('training loss: ',loss,'  validation loss: ',val_loss)\n"
      ],
      "execution_count": null,
      "outputs": []
    },
    {
      "cell_type": "code",
      "metadata": {
        "colab": {
          "base_uri": "https://localhost:8080/",
          "height": 281
        },
        "id": "WnRcVsXah3tN",
        "outputId": "4fda0f76-4da5-4016-ad44-b66c102b474f"
      },
      "source": [
        "#visualize model performance\n",
        "\n",
        "full_predictions=model(feature_tensor).detach()\n",
        "\n",
        "import matplotlib.pyplot as plt\n",
        "\n",
        "plt.plot(target_tensor,label='ground truth')\n",
        "plt.plot(full_predictions,label='predictons')\n",
        "plt.title('Predictions on the normalized data')\n",
        "plt.legend()\n",
        "plt.show()"
      ],
      "execution_count": 11,
      "outputs": [
        {
          "output_type": "display_data",
          "data": {
            "image/png": "[encoded data removed]",
            "text/plain": [
              "<Figure size 432x288 with 1 Axes>"
            ]
          },
          "metadata": {
            "tags": [],
            "needs_background": "light"
          }
        }
      ]
    },
    {
      "cell_type": "code",
      "metadata": {
        "id": "_OpEY3OGuVkW"
      },
      "source": [
        "#try some captum methods on the model\n",
        "from captum.attr import IntegratedGradients\n",
        "from captum.attr import LayerConductance\n",
        "from captum.attr import NeuronConductance\n",
        "import numpy as np"
      ],
      "execution_count": 13,
      "outputs": []
    },
    {
      "cell_type": "code",
      "metadata": {
        "colab": {
          "base_uri": "https://localhost:8080/",
          "height": 265
        },
        "id": "r9TD7BNEugOr",
        "outputId": "c0118b32-3ae9-494b-c7f0-608e2f35bfbf"
      },
      "source": [
        "intgrad = IntegratedGradients(model)\n",
        "feature_tensor.requires_grad_()\n",
        "attr, delta = intgrad.attribute(feature_tensor, return_convergence_delta=True)\n",
        "attr = attr.detach().numpy()\n",
        "\n",
        "importance=np.mean(attr,axis=0)\n",
        "\n",
        "x_i=np.arange(len(importance))\n",
        "\n",
        "plt.bar(x_i,importance)\n",
        "plt.legend('average feature importance')\n",
        "plt.show()"
      ],
      "execution_count": 14,
      "outputs": [
        {
          "output_type": "display_data",
          "data": {
            "image/png": "[encoded data removed]",
            "text/plain": [
              "<Figure size 432x288 with 1 Axes>"
            ]
          },
          "metadata": {
            "tags": [],
            "needs_background": "light"
          }
        }
      ]
    },
    {
      "cell_type": "code",
      "metadata": {
        "colab": {
          "base_uri": "https://localhost:8080/",
          "height": 281
        },
        "id": "pEThlZpAzgnW",
        "outputId": "15c6a163-d8e6-456d-88ba-df82182d43f4"
      },
      "source": [
        "cond = LayerConductance(model, model.lin1)\n",
        "cond_vals = cond.attribute(feature_tensor)\n",
        "cond_vals = cond_vals.detach().numpy()\n",
        "cond_vals = np.mean(cond_vals,axis=0)\n",
        "\n",
        "x_i=np.arange(len(cond_vals))\n",
        "plt.bar(x_i,cond_vals)\n",
        "plt.title('neuron importance')\n",
        "plt.xticks(x_i)\n",
        "plt.show()"
      ],
      "execution_count": 15,
      "outputs": [
        {
          "output_type": "display_data",
          "data": {
            "image/png": "[encoded data removed]",
            "text/plain": [
              "<Figure size 432x288 with 1 Axes>"
            ]
          },
          "metadata": {
            "tags": [],
            "needs_background": "light"
          }
        }
      ]
    },
    {
      "cell_type": "code",
      "metadata": {
        "colab": {
          "base_uri": "https://localhost:8080/",
          "height": 297
        },
        "id": "_T8HV5S61V-C",
        "outputId": "587a1fd5-9679-452d-ec7f-6901a374ff2b"
      },
      "source": [
        "#lets look closer at the neurons\n",
        "fig = plt.figure(figsize=(10, 4))\n",
        "\n",
        "for neuron_index in range(3):\n",
        "\n",
        "  neuron_cond = NeuronConductance(model, model.lin1)\n",
        "  neuron0_cond = neuron_cond.attribute(feature_tensor, neuron_selector=neuron_index)\n",
        "  neuron0_cond = np.mean(neuron0_cond.detach().numpy(),axis=0)\n",
        "\n",
        "  plt.subplot(130+neuron_index+1)\n",
        "  x_i=np.arange(len(neuron0_cond))\n",
        "  plt.bar(x_i,neuron0_cond)\n",
        "  plt.title('neuron'+str(neuron_index))\n",
        "  plt.xticks(x_i)\n",
        "\n",
        "plt.tight_layout()\n",
        "plt.show()"
      ],
      "execution_count": 16,
      "outputs": [
        {
          "output_type": "display_data",
          "data": {
            "image/png": "[encoded data removed]",
            "text/plain": [
              "<Figure size 720x288 with 3 Axes>"
            ]
          },
          "metadata": {
            "tags": [],
            "needs_background": "light"
          }
        }
      ]
    },
    {
      "cell_type": "markdown",
      "metadata": {
        "id": "7yy2bYOk2FCP"
      },
      "source": [
        "So here we can see that for neuron 1 and 2 the feature 10 is most imoprtant. These two neurons have little to no negative correlation to the inputs, while neuron0 almost exclusively has negative correlations to the input. Also considering the figure \"neuron importance\" from before, it seems as if neuron 0 is focussing on predicting a decrease, while the other two have learned features that predict an increase in the passenger numbers.\n",
        "\n",
        "The main takeaway is that input 10 is the most important positive correlation for the output. That may be because the number of recorded flight passengers  most of the time was around the number of the month before.\n"
      ]
    }
  ]
}